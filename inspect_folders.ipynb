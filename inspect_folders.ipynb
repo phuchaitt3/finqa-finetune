{
 "cells": [
  {
   "cell_type": "code",
   "execution_count": 1,
   "id": "d5a616a9",
   "metadata": {},
   "outputs": [
    {
     "name": "stdout",
     "output_type": "stream",
     "text": [
      "Attempting to inspect folder: E:\\1.apps\\obsidian_folder\\Research\\Research_code\\FinQA\\finqa_t5_model_final\n",
      "\n",
      "--- Inspecting Model Folder Contents ---\n",
      "ERROR: The specified model path DOES NOT EXIST: E:\\1.apps\\obsidian_folder\\Research\\Research_code\\FinQA\\finqa_t5_model_final\n",
      "Please double-check the 'base_project_dir' and 'model_folder_name' variables.\n"
     ]
    }
   ],
   "source": [
    "import os\n",
    "\n",
    "# --- Configuration for your model path ---\n",
    "# IMPORTANT: Adjust this path to match the EXACT location of your 'FinQA' folder.\n",
    "# For your example path: 'E:\\1.apps\\obsidian_folder\\Research\\Research_code\\FinQA'\n",
    "base_project_dir = r\"E:\\1.apps\\obsidian_folder\\Research\\Research_code\\FinQA\" # <--- ADJUST THIS LINE\n",
    "\n",
    "# Define the name of the folder containing your saved model\n",
    "model_folder_name = \"finqa_t5_model_final\"\n",
    "\n",
    "# Construct the full, absolute path to the model directory\n",
    "model_load_path = os.path.join(base_project_dir, model_folder_name)\n",
    "\n",
    "print(f\"Attempting to inspect folder: {model_load_path}\")\n",
    "\n",
    "# --- Code to Print Folder Contents ---\n",
    "print(\"\\n--- Inspecting Model Folder Contents ---\")\n",
    "if not os.path.exists(model_load_path):\n",
    "    print(f\"ERROR: The specified model path DOES NOT EXIST: {model_load_path}\")\n",
    "    print(\"Please double-check the 'base_project_dir' and 'model_folder_name' variables.\")\n",
    "elif not os.path.isdir(model_load_path):\n",
    "    print(f\"ERROR: The specified path IS NOT A DIRECTORY: {model_load_path}\")\n",
    "    print(\"Please ensure it points to a folder, not a file.\")\n",
    "else:\n",
    "    print(f\"Contents of '{model_load_path}':\")\n",
    "    try:\n",
    "        files_in_folder = os.listdir(model_load_path)\n",
    "        for f_name in files_in_folder:\n",
    "            full_path = os.path.join(model_load_path, f_name)\n",
    "            if os.path.isfile(full_path):\n",
    "                print(f\"  - File: {f_name}\")\n",
    "            elif os.path.isdir(full_path):\n",
    "                print(f\"  - Directory: {f_name}\")\n",
    "            else:\n",
    "                print(f\"  - Other: {f_name}\") # For symlinks, etc.\n",
    "    except Exception as e:\n",
    "        print(f\"  Error accessing directory contents: {e}\")\n",
    "    print(\"\\nExpected files: 'pytorch_model.bin' (or 'model.safetensors'), 'config.json', 'tokenizer.json' (or other tokenizer files).\")\n",
    "    print(\"------------------------------------\\n\")"
   ]
  }
 ],
 "metadata": {
  "kernelspec": {
   "display_name": "Python 3",
   "language": "python",
   "name": "python3"
  },
  "language_info": {
   "codemirror_mode": {
    "name": "ipython",
    "version": 3
   },
   "file_extension": ".py",
   "mimetype": "text/x-python",
   "name": "python",
   "nbconvert_exporter": "python",
   "pygments_lexer": "ipython3",
   "version": "3.12.5"
  }
 },
 "nbformat": 4,
 "nbformat_minor": 5
}
