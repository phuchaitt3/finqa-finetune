{
 "cells": [
  {
   "cell_type": "code",
   "execution_count": 2,
   "id": "8653303d",
   "metadata": {},
   "outputs": [],
   "source": [
    "from datasets import load_dataset\n",
    "import pandas as pd"
   ]
  },
  {
   "cell_type": "code",
   "execution_count": 3,
   "id": "e6f915ff",
   "metadata": {},
   "outputs": [
    {
     "name": "stdout",
     "output_type": "stream",
     "text": [
      "Successfully loaded the FinQA dataset from Hugging Face.\n"
     ]
    }
   ],
   "source": [
    "dataset = load_dataset(\"Aiera/finqa-verified\")\n",
    "print(\"Successfully loaded the FinQA dataset from Hugging Face.\")"
   ]
  },
  {
   "cell_type": "code",
   "execution_count": 5,
   "id": "e31f81b7",
   "metadata": {},
   "outputs": [
    {
     "name": "stdout",
     "output_type": "stream",
     "text": [
      "Number of examples in the training set: 91\n",
      "\n",
      "--- First Example ---\n",
      "{'answer': 94.0, 'question': 'what is the net change in net revenue during 2015 for entergy corporation?', 'context': 'entergy corporation and subsidiaries management 2019s financial discussion and analysis a result of the entergy louisiana and entergy gulf states louisiana business combination , results of operations for 2015 also include two items that occurred in october 2015 : 1 ) a deferred tax asset and resulting net increase in tax basis of approximately $ 334 million and 2 ) a regulatory liability of $ 107 million ( $ 66 million net-of-tax ) as a result of customer credits to be realized by electric customers of entergy louisiana , consistent with the terms of the stipulated settlement in the business combination proceeding . see note 2 to the financial statements for further discussion of the business combination and customer credits . results of operations for 2015 also include the sale in december 2015 of the 583 mw rhode island state energy center for a realized gain of $ 154 million ( $ 100 million net-of-tax ) on the sale and the $ 77 million ( $ 47 million net-of-tax ) write-off and regulatory charges to recognize that a portion of the assets associated with the waterford 3 replacement steam generator project is no longer probable of recovery . see note 14 to the financial statements for further discussion of the rhode island state energy center sale . see note 2 to the financial statements for further discussion of the waterford 3 write-off . results of operations for 2014 include $ 154 million ( $ 100 million net-of-tax ) of charges related to vermont yankee primarily resulting from the effects of an updated decommissioning cost study completed in the third quarter 2014 along with reassessment of the assumptions regarding the timing of decommissioning cash flows and severance and employee retention costs . see note 14 to the financial statements for further discussion of the charges . results of operations for 2014 also include the $ 56.2 million ( $ 36.7 million net-of-tax ) write-off in 2014 of entergy mississippi 2019s regulatory asset associated with new nuclear generation development costs as a result of a joint stipulation entered into with the mississippi public utilities staff , subsequently approved by the mpsc , in which entergy mississippi agreed not to pursue recovery of the costs deferred by an mpsc order in the new nuclear generation docket . see note 2 to the financial statements for further discussion of the new nuclear generation development costs and the joint stipulation . net revenue utility following is an analysis of the change in net revenue comparing 2015 to 2014 . amount ( in millions ) .\\n||amount ( in millions )|\\n|2014 net revenue|$ 5735|\\n|retail electric price|187|\\n|volume/weather|95|\\n|waterford 3 replacement steam generator provision|-32 ( 32 )|\\n|miso deferral|-35 ( 35 )|\\n|louisiana business combination customer credits|-107 ( 107 )|\\n|other|-14 ( 14 )|\\n|2015 net revenue|$ 5829|\\nthe retail electric price variance is primarily due to : 2022 formula rate plan increases at entergy louisiana , as approved by the lpsc , effective december 2014 and january 2015 ; 2022 an increase in energy efficiency rider revenue primarily due to increases in the energy efficiency rider at entergy arkansas , as approved by the apsc , effective july 2015 and july 2014 , and new energy efficiency riders at entergy louisiana and entergy mississippi that began in the fourth quarter 2014 ; and 2022 an annual net rate increase at entergy mississippi of $ 16 million , effective february 2015 , as a result of the mpsc order in the june 2014 rate case . see note 2 to the financial statements for a discussion of rate and regulatory proceedings. .'}\n"
     ]
    }
   ],
   "source": [
    "# The dataset is often split into 'train' and 'test'\n",
    "dataset = dataset['test']\n",
    "\n",
    "# Print the number of examples in the training split\n",
    "print(f\"Number of examples in the training set: {len(dataset)}\")\n",
    "\n",
    "# Access and print the first example\n",
    "print(\"\\n--- First Example ---\")\n",
    "first_example = dataset[0]\n",
    "print(first_example)"
   ]
  },
  {
   "cell_type": "code",
   "execution_count": 9,
   "id": "73360add",
   "metadata": {},
   "outputs": [
    {
     "name": "stdout",
     "output_type": "stream",
     "text": [
      "\n",
      "--- Parsed First Example ---\n",
      "Question: what is the net change in net revenue during 2015 for entergy corporation?\n",
      "Answer: 94.0\n"
     ]
    }
   ],
   "source": [
    "# Extract and display specific parts of the first example\n",
    "print(\"\\n--- Parsed First Example ---\")\n",
    "print(f\"Question: {first_example['question']}\")\n",
    "print(f\"Answer: {first_example['answer']}\")"
   ]
  }
 ],
 "metadata": {
  "kernelspec": {
   "display_name": "Python 3",
   "language": "python",
   "name": "python3"
  },
  "language_info": {
   "codemirror_mode": {
    "name": "ipython",
    "version": 3
   },
   "file_extension": ".py",
   "mimetype": "text/x-python",
   "name": "python",
   "nbconvert_exporter": "python",
   "pygments_lexer": "ipython3",
   "version": "3.12.5"
  }
 },
 "nbformat": 4,
 "nbformat_minor": 5
}
